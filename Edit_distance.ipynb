{
  "nbformat": 4,
  "nbformat_minor": 0,
  "metadata": {
    "colab": {
      "name": "Untitled0.ipynb",
      "provenance": [],
      "authorship_tag": "ABX9TyPzReMdmiMLvbMVUwb7FdIB",
      "include_colab_link": true
    },
    "kernelspec": {
      "name": "python3",
      "display_name": "Python 3"
    },
    "language_info": {
      "name": "python"
    }
  },
  "cells": [
    {
      "cell_type": "markdown",
      "metadata": {
        "id": "view-in-github",
        "colab_type": "text"
      },
      "source": [
        "<a href=\"https://colab.research.google.com/github/KealanMannix/RE4012/blob/master/Edit_distance.ipynb\" target=\"_parent\"><img src=\"https://colab.research.google.com/assets/colab-badge.svg\" alt=\"Open In Colab\"/></a>"
      ]
    },
    {
      "cell_type": "code",
      "metadata": {
        "colab": {
          "base_uri": "https://localhost:8080/"
        },
        "id": "K2x7--05Ykbl",
        "outputId": "8e1166db-41e0-4643-bcaa-bf4f70cd1bb2"
      },
      "source": [
        "import time\n",
        " \n",
        "#How many insertions, deletions, or substitutions does it take to turn x into y?\n",
        "def edDistRecursive(x, y): \n",
        "    \n",
        "    # If either x or y are empty, then one or more (depending on their length) INSERTIONS or DELECTIONS are needed to transform x to y.\n",
        "    if len(x) == 0:\n",
        "        #print(f'\\t Converting \"{x}\" TO \"{y}\" requires {len(y)} INSERTIONS, therefor it costs {len(y)}') \n",
        "        return len(y)\n",
        "    if len(y) == 0:\n",
        "        #print(f'\\t Converting \"{x}\" TO \"{y}\" requires {len(x)} DELETIONS, therefor it costs {len(x)}') \n",
        "        return len(x)\n",
        " \n",
        "    # When neither x or y are empty, we must compute the cost of each operation and find the least costly one.\n",
        "    delta = 2 if x[-1] != y[-1] else 0\n",
        "    diagonal_or_substitution_cost = edDistRecursive(x[:-1], y[:-1]) + delta #what's the cost of SUBSTITUTING the last character of x with the last character of y\n",
        "    vertical_or_deletion_cost     = edDistRecursive(x[:-1], y)      + 1     #what's the cost of DELETING the last character of x\n",
        "    horizontal_or_insertion_cost  = edDistRecursive(x, y[:-1])      + 1     #what's the cost of INSERTING the last character of x into y\n",
        "    \n",
        "    # what's the least costly operation?\n",
        "    minValue = min(diagonal_or_substitution_cost, vertical_or_deletion_cost, horizontal_or_insertion_cost)\n",
        "    return minValue\n",
        "\n",
        "a = \"intention\"\n",
        "b = \"execution\"\n",
        "start_time = time.time()\n",
        "value = edDistRecursive(a,b)\n",
        "end_time = time.time()\n",
        "final_time = end_time - start_time\n",
        "print(f'Edit distance between \"{a}\" and \"{b}\" is {value}')\n",
        "print(\"Program executed in {} seconds\".format(final_time))"
      ],
      "execution_count": 21,
      "outputs": [
        {
          "output_type": "stream",
          "name": "stdout",
          "text": [
            "Edit distance between \"intention\" and \"execution\" is 8\n",
            "Program executed in 1.1755526065826416 seconds\n"
          ]
        }
      ]
    }
  ]
}