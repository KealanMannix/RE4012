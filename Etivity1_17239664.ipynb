{
  "nbformat": 4,
  "nbformat_minor": 0,
  "metadata": {
    "colab": {
      "name": "Untitled0.ipynb",
      "provenance": [],
      "authorship_tag": "ABX9TyPGj5CE0cKvTZ+AgK68Z0f5",
      "include_colab_link": true
    },
    "kernelspec": {
      "name": "python3",
      "display_name": "Python 3"
    },
    "language_info": {
      "name": "python"
    }
  },
  "cells": [
    {
      "cell_type": "markdown",
      "metadata": {
        "id": "view-in-github",
        "colab_type": "text"
      },
      "source": [
        "<a href=\"https://colab.research.google.com/github/KealanMannix/RE4012/blob/master/Etivity1_17239664.ipynb\" target=\"_parent\"><img src=\"https://colab.research.google.com/assets/colab-badge.svg\" alt=\"Open In Colab\"/></a>"
      ]
    },
    {
      "cell_type": "code",
      "metadata": {
        "colab": {
          "base_uri": "https://localhost:8080/"
        },
        "id": "a0ddui_S33ox",
        "outputId": "1add5926-a124-4a28-b9b5-5bd4017f9ed8"
      },
      "source": [
        "#Import necessary libraries\n",
        "import re\n",
        "import csv\n",
        "\n",
        "#Use linux wget command to download CSV file for eircodes\n",
        "!wget https://gist.githubusercontent.com/ajoorabchi/eac194a79dd26de8864f9206b7842ff1/raw/8ea1d8d5f74b5b2724e378b43d4df6094990c7db/Eircode%2520Routing%2520Key%2520Boundaries.csv\n",
        "filepath = \"/content/Eircode Routing Key Boundaries.csv\"\n",
        "\n",
        "#open the eircode file and load in the routing key districts\n",
        "with open(filepath, 'r') as f:\n",
        "  reader = csv.reader(f)\n",
        "  KeyRouteList = list(map(tuple,reader))\n",
        "\n",
        "print(KeyRouteList)\n",
        "\n",
        "def eircodeValidator(eircode):\n",
        "  #Strip all leading and trailing whitespaces\n",
        "  eircode = eircode.strip()\n",
        "  print(\"Eircode =\",eircode)\n",
        "  #Create regex expression to check if string is a valid eircode\n",
        "  valid = re.compile(\"^[0-9,A-Z]{3}[-,\\s]?[0-9,A-Z]{4}$\")\n",
        "\n",
        "  #Check if eircode is valid\n",
        "  if valid.match(eircode):\n",
        "\n",
        "    #get the routing key and unique identifier and store in variables\n",
        "    RoutingKey = eircode[:3]\n",
        "    UniqueIdentifier = eircode[-4:]\n",
        "\n",
        "    #Get the appropriate district for the routing key from the routing key list\n",
        "    district = [y for (x,y) in KeyRouteList if x == RoutingKey]\n",
        "\n",
        "    #Print necessary information\n",
        "    print(\"Valid Eircode, Routing Key = {}, Unique Identifier = {}\".format(RoutingKey, UniqueIdentifier))\n",
        "    print(\"Destination =\", *district,\"\\n\")\n",
        "\n",
        "  #Deal with invalid cases\n",
        "  else:\n",
        "    print(\"Invalid Eircode\\n\")\n",
        "\n",
        "#Test code by giving it various eircodes\n",
        "eircodeValidator(\"V94-DP7N\")\n",
        "eircodeValidator(\"V94 DP7N\")\n",
        "eircodeValidator(\"v94 DP7N\")\n",
        "eircodeValidator(\" V94-DP7N\")\n",
        "eircodeValidator(\"V94 DP7N \")\n",
        "\n",
        "\n"
      ],
      "execution_count": 37,
      "outputs": [
        {
          "output_type": "stream",
          "name": "stdout",
          "text": [
            "--2021-09-20 12:05:26--  https://gist.githubusercontent.com/ajoorabchi/eac194a79dd26de8864f9206b7842ff1/raw/8ea1d8d5f74b5b2724e378b43d4df6094990c7db/Eircode%2520Routing%2520Key%2520Boundaries.csv\n",
            "Resolving gist.githubusercontent.com (gist.githubusercontent.com)... 185.199.110.133, 185.199.111.133, 185.199.109.133, ...\n",
            "Connecting to gist.githubusercontent.com (gist.githubusercontent.com)|185.199.110.133|:443... connected.\n",
            "HTTP request sent, awaiting response... 200 OK\n",
            "Length: 1934 (1.9K) [text/plain]\n",
            "Saving to: ‘Eircode Routing Key Boundaries.csv.32’\n",
            "\n",
            "Eircode Routing Key 100%[===================>]   1.89K  --.-KB/s    in 0s      \n",
            "\n",
            "2021-09-20 12:05:26 (32.2 MB/s) - ‘Eircode Routing Key Boundaries.csv.32’ saved [1934/1934]\n",
            "\n",
            "[('ROUTING KEY', 'DESCRIPTOR'), ('A41', 'BALLYBOUGHAL'), ('A42', 'GARRISTOWN'), ('A45', 'OLDTOWN'), ('A63', 'GREYSTONES'), ('A67', 'WICKLOW'), ('A75', 'CASTLEBLAYNEY'), ('A81', 'CARRICKMACROSS'), ('A82', 'KELLS'), ('A83', 'ENFIELD'), ('A84', 'ASHBOURNE'), ('A85', 'DUNSHAUGHLIN'), ('A86', 'DUNBOYNE'), ('A91', 'DUNDALK'), ('A92', 'DROGHEDA'), ('A94', 'BLACKROCK'), ('A96', 'GLENAGEARY'), ('A98', 'BRAY'), ('C15', 'NAVAN'), ('D01', 'DUBLIN 1'), ('D02', 'DUBLIN 2'), ('D03', 'DUBLIN 3'), ('D04', 'DUBLIN 4'), ('D05', 'DUBLIN 5'), ('D06', 'DUBLIN 6'), ('D07', 'DUBLIN 7'), ('D08', 'DUBLIN 8'), ('D09', 'DUBLIN 9'), ('D10', 'DUBLIN 10'), ('D11', 'DUBLIN 11'), ('D12', 'DUBLIN 12'), ('D13', 'DUBLIN 13'), ('D14', 'DUBLIN 14'), ('D15', 'DUBLIN 15'), ('D16', 'DUBLIN 16'), ('D17', 'DUBLIN 17'), ('D18', 'DUBLIN 18'), ('D20', 'DUBLIN 20'), ('D22', 'DUBLIN 22'), ('D24', 'DUBLIN 24'), ('D6W', 'DUBLIN 6W'), ('E21', 'CAHIR'), ('E25', 'CASHEL'), ('E32', 'CARRICK-ON-SUIR'), ('E34', 'TIPPERARY'), ('E41', 'THURLES'), ('E45', 'NENAGH'), ('E53', 'ROSCREA'), ('E91', 'CLONMEL'), ('F12', 'CLAREMORRIS'), ('F23', 'CASTLEBAR'), ('F26', 'BALLINA'), ('F28', 'WESTPORT'), ('F31', 'BALLINROBE'), ('F35', 'BALLYHAUNIS'), ('F42', 'ROSCOMMON'), ('F45', 'CASTLEREA'), ('F52', 'BOYLE'), ('F56', 'BALLYMOTE'), ('F91', 'SLIGO'), ('F92', 'LETTERKENNY'), ('F93', 'LIFFORD'), ('F94', 'DONEGAL'), ('H12', 'CAVAN'), ('H14', 'BELTURBET'), ('H16', 'COOTEHILL'), ('H18', 'MONAGHAN'), ('H23', 'CLONES'), ('H53', 'BALLINASLOE'), ('H54', 'TUAM'), ('H62', 'LOUGHREA'), ('H65', 'ATHENRY'), ('H71', 'CLIFDEN'), ('H91', 'GALWAY'), ('K32', 'BALBRIGGAN'), ('K34', 'SKERRIES'), ('K36', 'MALAHIDE'), ('K45', 'LUSK'), ('K56', 'RUSH'), ('K67', 'SWORDS'), ('K78', 'LUCAN'), ('N37', 'ATHLONE'), ('N39', 'LONGFORD'), ('N41', 'CARRICK-ON-SHANNON'), ('N91', 'MULLINGAR'), ('P12', 'MACROOM'), ('P14', 'CORK - CROOKSTOWN'), ('P17', 'KINSALE'), ('P24', 'COBH'), ('P25', 'MIDLETON'), ('P31', 'BALLINCOLLIG'), ('P32', 'CORK - DONOUGHMORE'), ('P36', 'YOUGHAL'), ('P43', 'CARRIGALINE'), ('P47', 'CORK - DUNMANWAY'), ('P51', 'MALLOW'), ('P56', 'CHARLEVILLE'), ('P61', 'FERMOY'), ('P67', 'MITCHELSTOWN'), ('P72', 'BANDON'), ('P75', 'BANTRY'), ('P81', 'SKIBBEREEN'), ('P85', 'CLONAKILTY'), ('R14', 'ATHY'), ('R21', 'MUINE BHEAG'), ('R32', 'PORTLAOISE'), ('R35', 'TULLAMORE'), ('R42', 'BIRR'), ('R45', 'EDENDERRY'), ('R51', 'KILDARE'), ('R56', 'CURRAGH CAMP'), ('R93', 'CARLOW'), ('R95', 'KILKENNY'), ('T12', 'CORK - BALLINHASSIG'), ('T23', 'CORK - BLARNEY'), ('T34', 'CORK - WHITECHURCH'), ('T45', 'LITTLE ISLAND'), ('T56', 'CORK - WATERGRASSHILL'), ('V14', 'SHANNON'), ('V15', 'KILRUSH'), ('V23', 'CAHERCIVEEN'), ('V31', 'LISTOWEL'), ('V35', 'KILMALLOCK'), ('V42', 'NEWCASTLE WEST'), ('V92', 'TRALEE'), ('V93', 'KILLARNEY'), ('V94', 'LIMERICK'), ('V95', 'ENNIS'), ('W12', 'NEWBRIDGE'), ('W23', 'MAYNOOTH'), ('W34', 'MONASTEREVIN'), ('W91', 'NAAS'), ('X35', 'DUNGARVAN'), ('X42', 'KILMACTHOMAS'), ('X91', 'WATERFORD'), ('Y14', 'ARKLOW'), ('Y21', 'ENNISCORTHY'), ('Y25', 'GOREY'), ('Y34', 'NEW ROSS'), ('Y35', 'WEXFORD')]\n",
            "Eircode = V94-DP7N\n",
            "Valid Eircode, Routing Key = V94, Unique Identifier = DP7N\n",
            "Destination = LIMERICK \n",
            "\n",
            "Eircode = V94 DP7N\n",
            "Valid Eircode, Routing Key = V94, Unique Identifier = DP7N\n",
            "Destination = LIMERICK \n",
            "\n",
            "Eircode = v94 DP7N\n",
            "Invalid Eircode\n",
            "\n",
            "Eircode = V94-DP7N\n",
            "Valid Eircode, Routing Key = V94, Unique Identifier = DP7N\n",
            "Destination = LIMERICK \n",
            "\n",
            "Eircode = V94 DP7N\n",
            "Valid Eircode, Routing Key = V94, Unique Identifier = DP7N\n",
            "Destination = LIMERICK \n",
            "\n"
          ]
        }
      ]
    }
  ]
}